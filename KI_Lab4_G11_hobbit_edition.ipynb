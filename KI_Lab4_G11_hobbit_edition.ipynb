{
  "nbformat": 4,
  "nbformat_minor": 0,
  "metadata": {
    "colab": {
      "name": "KI-Lab4-G11-#hobbit-edition.ipynb",
      "provenance": [],
      "collapsed_sections": [],
      "include_colab_link": true
    },
    "kernelspec": {
      "name": "python3",
      "display_name": "Python 3"
    }
  },
  "cells": [
    {
      "cell_type": "markdown",
      "metadata": {
        "id": "view-in-github",
        "colab_type": "text"
      },
      "source": [
        "<a href=\"https://colab.research.google.com/github/miruna-morarasu/AI-Labs/blob/master/KI_Lab4_G11_hobbit_edition.ipynb\" target=\"_parent\"><img src=\"https://colab.research.google.com/assets/colab-badge.svg\" alt=\"Open In Colab\"/></a>"
      ]
    },
    {
      "cell_type": "markdown",
      "metadata": {
        "id": "NkTh8nbBKahO",
        "colab_type": "text"
      },
      "source": [
        "**Collabs = [(\"Miruna-Maria Morarasu\", \"722/1\"),\n",
        "            (\"Sonia Pojoga\", \"722/1\"), \n",
        "            (\"Dorel-Gabriel Posa\", \"722/1\"), \n",
        "            (\"Ovidiu-Dan Sonea\", \"722/2\")]**"
      ]
    },
    {
      "cell_type": "markdown",
      "metadata": {
        "id": "QGHpmf5aSd61",
        "colab_type": "text"
      },
      "source": [
        "\n",
        "\n",
        "Dimensiunea matricii, respectiv a puzzle-ului:"
      ]
    },
    {
      "cell_type": "code",
      "metadata": {
        "id": "9_JRyrmkSahR",
        "colab_type": "code",
        "colab": {}
      },
      "source": [
        "n = 8"
      ],
      "execution_count": 0,
      "outputs": []
    },
    {
      "cell_type": "markdown",
      "metadata": {
        "id": "YrIKqPo_SoT8",
        "colab_type": "text"
      },
      "source": [
        "Modelarea unui puzzle n x n, sub forma clasei `Puzzle`, unde:\n",
        "\n",
        "*   `pozx`, `pozY` = coordonatele pozitiei goale, marcate cu 0\n",
        "*   `matrix` = reprezentare matriceala a configuratiei actuale a unui puzzle\n",
        "\n"
      ]
    },
    {
      "cell_type": "code",
      "metadata": {
        "id": "RdycNmDClTpU",
        "colab_type": "code",
        "colab": {}
      },
      "source": [
        "class Puzzle:\n",
        "    def __init__(self, matr, poz):\n",
        "        self.pozX = poz // n\n",
        "        self.pozY = poz % n\n",
        "        self.matrix = [x[:n] for x in matr]\n",
        "\n",
        "    def print_matrix(self):\n",
        "        print(self.matrix)\n",
        "# Costul pentru o piesa este numarul de pasi pana la pozitia corecta\n",
        "# Din costul total il scadem pe cel pentru pozitia 0 (cea goala)\n",
        "    def cost(self):\n",
        "        to_return = 0\n",
        "        for i in range(n):\n",
        "            for j in range(n):\n",
        "                to_return += (abs(self.matrix[i][j] - (i * n + j + 1))) % n + (abs(self.matrix[i][j] - (i * n + j + 1))) // n\n",
        "        return to_return - ((abs(self.matrix[self.pozX][self.pozY] - (self.pozX * n + self.pozY + 1))) % n + (abs(self.matrix[self.pozX][self.pozY] - (self.pozX * n + self.pozY + 1))) // n)\n",
        "\n",
        "    def move_up(self):\n",
        "        if self.pozX != 0:\n",
        "            aux = self.matrix[self.pozX][self.pozY]\n",
        "            self.matrix[self.pozX][self.pozY] = self.matrix[self.pozX - 1][self.pozY]\n",
        "            self.matrix[self.pozX - 1][self.pozY] = aux\n",
        "            self.pozX -= 1\n",
        "            return Puzzle(self.matrix, self.pozX * n + self.pozY)\n",
        "        return None\n",
        "\n",
        "    def move_down(self):\n",
        "        if self.pozX != n - 1:\n",
        "            aux = self.matrix[self.pozX][self.pozY]\n",
        "            self.matrix[self.pozX][self.pozY] = self.matrix[self.pozX + 1][self.pozY]\n",
        "            self.matrix[self.pozX + 1][self.pozY] = aux\n",
        "            self.pozX += 1\n",
        "            return Puzzle(self.matrix, self.pozX * n + self.pozY)\n",
        "        return None\n",
        "\n",
        "    def move_left(self):\n",
        "        if self.pozY != 0:\n",
        "            aux = self.matrix[self.pozX][self.pozY]\n",
        "            self.matrix[self.pozX][self.pozY] = self.matrix[self.pozX][self.pozY - 1]\n",
        "            self.matrix[self.pozX][self.pozY - 1] = aux\n",
        "            self.pozY -= 1\n",
        "            return Puzzle(self.matrix, self.pozX * n + self.pozY)\n",
        "        return None\n",
        "\n",
        "    def move_right(self):\n",
        "        if self.pozY != n - 1:\n",
        "            aux = self.matrix[self.pozX][self.pozY]\n",
        "            self.matrix[self.pozX][self.pozY] = self.matrix[self.pozX][self.pozY + 1]\n",
        "            self.matrix[self.pozX][self.pozY + 1] = aux\n",
        "            self.pozY += 1\n",
        "            return Puzzle(self.matrix, self.pozX * n + self.pozY)\n",
        "        return None\n",
        "\n",
        "    def __eq__(self, x):\n",
        "        return self.matrix == x.matrix"
      ],
      "execution_count": 0,
      "outputs": []
    },
    {
      "cell_type": "markdown",
      "metadata": {
        "id": "v4x6f0i9XH3e",
        "colab_type": "text"
      },
      "source": [
        "`isSolvable()` - primeste un puzzle sub forma de array si returneaza:\n",
        "\n",
        "*   `True` - daca acesta este rezolvabil\n",
        "*   `False` - in caz contrar\n",
        "> Metoda auxiliara: `getInvCount()`, folosita pentru a calcula numarul de inversiuni din cadrul array-ului\n"
      ]
    },
    {
      "cell_type": "code",
      "metadata": {
        "id": "BnT9v8ytzMIl",
        "colab_type": "code",
        "colab": {}
      },
      "source": [
        "def getInvCount(arr):\n",
        "    inv_count = 0\n",
        "    for i in range(n * n - 1):\n",
        "        for j in range(i + 1, n * n):\n",
        "            if arr[j] and arr[i] and arr[i] > arr[j]:\n",
        "                inv_count += 1\n",
        "    return inv_count\n",
        "\n",
        "\n",
        "def isSolvable(puzzle):\n",
        "    invCount = getInvCount(puzzle)\n",
        "    return (invCount % 2 == 0)"
      ],
      "execution_count": 0,
      "outputs": []
    },
    {
      "cell_type": "markdown",
      "metadata": {
        "colab_type": "text",
        "id": "dv3vcqMdUdLY"
      },
      "source": [
        "Modelarea unui table de sah corespunzatoare problemei damelor, varianta n x n, sub forma clasei `Damenspiel`, in care atributul `columns` reprezinta un vector de dimensiune n, in care:\n",
        "\n",
        "*   indexul in lista corespunde randului de pe tabla de sah\n",
        "*   elementul din lista corespunde coloanei de pe tabla de sah\n",
        "\n"
      ]
    },
    {
      "cell_type": "code",
      "metadata": {
        "id": "X9tIYnyrUXqg",
        "colab_type": "code",
        "colab": {}
      },
      "source": [
        "class Damenspiel:\n",
        "    def __init__(self, columns):\n",
        "        self.columns = columns\n",
        "# Costul reprezinta numarul de dame care se ataca\n",
        "# Dorim un cost minim\n",
        "    def cost(self):\n",
        "        to_return = 0\n",
        "        for i in range(n - 1):\n",
        "            for j in range(i + 1, n):\n",
        "                if self.columns[i] + i == self.columns[j] + j:\n",
        "                    to_return += 1\n",
        "                if abs(self.columns[i] - i) == abs(self.columns[j] - j):\n",
        "                    to_return += 1\n",
        "        return to_return\n",
        "\n",
        "    def move(self):\n",
        "        permutations = []\n",
        "        for i in range(n - 1):\n",
        "            for j in range(i + 1, n):\n",
        "                perm = self.columns[:]\n",
        "                perm[i] = self.columns[j]\n",
        "                perm[j] = self.columns[i]\n",
        "                permutations.append(Damenspiel(perm))\n",
        "        return permutations\n",
        "\n",
        "    def __eq__(self, x):\n",
        "        return self.columns == x.columns"
      ],
      "execution_count": 0,
      "outputs": []
    },
    {
      "cell_type": "markdown",
      "metadata": {
        "id": "mf3l-LNycgAT",
        "colab_type": "text"
      },
      "source": [
        "`bilbo()` - **Bergsteigeralgorithmus** (pentru Puzzle n x n) - primeste parametru o lista cu un obiect de tip `Puzzle`, reprezentand configuratia (random) initiala\n"
      ]
    },
    {
      "cell_type": "code",
      "metadata": {
        "id": "2OY98DHFZ7jI",
        "colab_type": "code",
        "colab": {}
      },
      "source": [
        "def bilbo(node_list):\n",
        "    step_count = 0\n",
        "    stack = []\n",
        "    visited = [Puzzle(node_list[0].matrix, node_list[0].pozX * n + node_list[0].pozY)]\n",
        "    node_list.sort(key=lambda x: x.cost())\n",
        "    while len(node_list) != 0 and node_list[0].cost() != 0:\n",
        "        if step_count % 500 == 0:\n",
        "            print(step_count, node_list[0].cost(), len(visited))\n",
        "        possibi = []\n",
        "        new_node = node_list[0].move_up()\n",
        "        if new_node is not None and new_node.cost() <= node_list[0].cost() and new_node not in visited:\n",
        "            possibi.append(new_node)\n",
        "            node_list[0].move_down()\n",
        "            visited.append(Puzzle(new_node.matrix, new_node.pozX * n + new_node.pozY))\n",
        "        new_node = node_list[0].move_down()\n",
        "        if new_node is not None and new_node.cost() <= node_list[0].cost() and new_node not in visited:\n",
        "            possibi.append(new_node)\n",
        "            node_list[0].move_up()\n",
        "            visited.append(Puzzle(new_node.matrix, new_node.pozX * n + new_node.pozY))\n",
        "        new_node = node_list[0].move_left()\n",
        "        if new_node is not None and new_node.cost() <= node_list[0].cost() and new_node not in visited:\n",
        "            possibi.append(new_node)\n",
        "            node_list[0].move_right()\n",
        "            visited.append(Puzzle(new_node.matrix, new_node.pozX * n + new_node.pozY))\n",
        "        new_node = node_list[0].move_right()\n",
        "        if new_node is not None and new_node.cost() <= node_list[0].cost() and new_node not in visited:\n",
        "            possibi.append(new_node)\n",
        "            node_list[0].move_left()\n",
        "            visited.append(Puzzle(new_node.matrix, new_node.pozX * n + new_node.pozY))\n",
        "        node_list.pop(0)\n",
        "        possibi.sort(key=lambda x: x.cost())\n",
        "        node_list = possibi + node_list\n",
        "        step_count += 1\n",
        "    return step_count"
      ],
      "execution_count": 0,
      "outputs": []
    },
    {
      "cell_type": "markdown",
      "metadata": {
        "colab_type": "text",
        "id": "TevLQTJ8dcSr"
      },
      "source": [
        "`kili()` - **Bergsteigeralgorithmus mit Random Restart** (pentru Puzzle n x n) - primeste parametru o lista cu un obiect de tip `Puzzle`, reprezentand configuratia (random) initiala\n"
      ]
    },
    {
      "cell_type": "code",
      "metadata": {
        "id": "v8_Ao6zUaAi2",
        "colab_type": "code",
        "colab": {}
      },
      "source": [
        "def kili(node_list):\n",
        "    step_count = 0\n",
        "    visited = [Puzzle(node_list[0].matrix, node_list[0].pozX * n + node_list[0].pozY)]\n",
        "    node_list.sort(key=lambda x: x.cost())\n",
        "    while len(node_list) != 0 and node_list[0].cost() != 0:\n",
        "        if step_count % 500 == 0:\n",
        "            print(step_count, node_list[0].cost(), len(visited))\n",
        "        possibi = []\n",
        "        new_node = node_list[0].move_up()\n",
        "        if new_node is not None and new_node.cost() <= node_list[0].cost() and new_node not in visited:\n",
        "            possibi.append(new_node)\n",
        "            node_list[0].move_down()\n",
        "            visited.append(Puzzle(new_node.matrix, new_node.pozX * n + new_node.pozY))\n",
        "        new_node = node_list[0].move_down()\n",
        "        if new_node is not None and new_node.cost() <= node_list[0].cost() and new_node not in visited:\n",
        "            possibi.append(new_node)\n",
        "            node_list[0].move_up()\n",
        "            visited.append(Puzzle(new_node.matrix, new_node.pozX * n + new_node.pozY))\n",
        "        new_node = node_list[0].move_left()\n",
        "        if new_node is not None and new_node.cost() <= node_list[0].cost() and new_node not in visited:\n",
        "            possibi.append(new_node)\n",
        "            node_list[0].move_right()\n",
        "            visited.append(Puzzle(new_node.matrix, new_node.pozX * n + new_node.pozY))\n",
        "        new_node = node_list[0].move_right()\n",
        "        if new_node is not None and new_node.cost() <= node_list[0].cost() and new_node not in visited:\n",
        "            possibi.append(new_node)\n",
        "            node_list[0].move_left()\n",
        "            visited.append(Puzzle(new_node.matrix, new_node.pozX * n + new_node.pozY))\n",
        "        if len(possibi) == 0:\n",
        "            lista = random.sample(range(n * n), n * n)\n",
        "            poz = lista.index(0)\n",
        "            index = 0\n",
        "            matr = []\n",
        "            for i in range(n):\n",
        "                matr.append([])\n",
        "                for j in range(n):\n",
        "                    matr[i].append(lista[index])\n",
        "                    index += 1\n",
        "            instance = Puzzle(matr, poz)\n",
        "            while not isSolvable(lista) or instance.cost() > n * n:\n",
        "                lista = random.sample(range(n * n), n * n)\n",
        "                poz = lista.index(0)\n",
        "                index = 0\n",
        "                matr = []\n",
        "                for i in range(n):\n",
        "                    matr.append([])\n",
        "                    for j in range(n):\n",
        "                        matr[i].append(lista[index])\n",
        "                        index += 1\n",
        "                instance = Puzzle(matr, poz)\n",
        "            node_list = [instance]\n",
        "            print(\"restarted\", step_count, node_list[0].cost())\n",
        "        else:\n",
        "            node_list.pop(0)\n",
        "            possibi.sort(key=lambda x: x.cost())\n",
        "            node_list = possibi + node_list\n",
        "        step_count += 1\n",
        "    return step_count"
      ],
      "execution_count": 0,
      "outputs": []
    },
    {
      "cell_type": "markdown",
      "metadata": {
        "colab_type": "text",
        "id": "poG0D63Cdom-"
      },
      "source": [
        "`fili()` - **Bergsteigeralgorithmus mit simulierten Abkühlung** (pentru Puzzle n x n) - primeste parametru o lista cu un obiect de tip `Puzzle`, reprezentand configuratia (random) initiala\n"
      ]
    },
    {
      "cell_type": "code",
      "metadata": {
        "id": "7-bimJwp1Y3Q",
        "colab_type": "code",
        "colab": {}
      },
      "source": [
        "def fili(node_list):\n",
        "    step_count = 1\n",
        "    visited = [Puzzle(node_list[0].matrix, node_list[0].pozX * n + node_list[0].pozY)]\n",
        "    node_list.sort(key=lambda x: x.cost())\n",
        "    while len(node_list) != 0 and node_list[0].cost() != 0:\n",
        "        if step_count % 500 == 0:\n",
        "            print(step_count, node_list[0].cost(), len(visited))\n",
        "        temp = 1000 / step_count\n",
        "        possibi = []\n",
        "        new_node = node_list[0].move_up()\n",
        "        if new_node is not None and (new_node.cost() <= node_list[0].cost() or random.uniform(0, 1) <= math.exp(\n",
        "                abs(new_node.cost() - node_list[0].cost()) / temp)) and new_node not in visited:\n",
        "            possibi.append(new_node)\n",
        "            node_list[0].move_down()\n",
        "            visited.append(Puzzle(new_node.matrix, new_node.pozX * n + new_node.pozY))\n",
        "        new_node = node_list[0].move_down()\n",
        "        if new_node is not None and (new_node.cost() <= node_list[0].cost() or random.uniform(0, 1) <= math.exp(\n",
        "                abs(new_node.cost() - node_list[0].cost()) / temp)) and new_node not in visited:\n",
        "            possibi.append(new_node)\n",
        "            node_list[0].move_up()\n",
        "            visited.append(Puzzle(new_node.matrix, new_node.pozX * n + new_node.pozY))\n",
        "        new_node = node_list[0].move_left()\n",
        "        if new_node is not None and (new_node.cost() <= node_list[0].cost() or random.uniform(0, 1) <= math.exp(\n",
        "                abs(new_node.cost() - node_list[0].cost()) / temp)) and new_node not in visited:\n",
        "            possibi.append(new_node)\n",
        "            node_list[0].move_right()\n",
        "            visited.append(Puzzle(new_node.matrix, new_node.pozX * n + new_node.pozY))\n",
        "        new_node = node_list[0].move_right()\n",
        "        if new_node is not None and (new_node.cost() <= node_list[0].cost() or random.uniform(0, 1) <= math.exp(\n",
        "                abs(new_node.cost() - node_list[0].cost()) / temp)) and new_node not in visited:\n",
        "            possibi.append(new_node)\n",
        "            node_list[0].move_left()\n",
        "            visited.append(Puzzle(new_node.matrix, new_node.pozX * n + new_node.pozY))\n",
        "        node_list.pop(0)\n",
        "        possibi.sort(key=lambda x: x.cost())\n",
        "        node_list = possibi + node_list\n",
        "        step_count += 1\n",
        "    return step_count"
      ],
      "execution_count": 0,
      "outputs": []
    },
    {
      "cell_type": "markdown",
      "metadata": {
        "colab_type": "text",
        "id": "v_YLMQ5bfI9X"
      },
      "source": [
        "`bofur()` - **Bergsteigeralgorithmus** (pentru Damespiel n x n) - primeste parametru o lista cu un obiect de tip `Damenspiel`, reprezentand configuratia (random) initiala\n"
      ]
    },
    {
      "cell_type": "code",
      "metadata": {
        "id": "9JjyrR42541G",
        "colab_type": "code",
        "colab": {}
      },
      "source": [
        "def bofur(node_list):\n",
        "    step_count = 0\n",
        "    visited = []\n",
        "    node_list.sort(key=lambda x: x.cost())\n",
        "    while len(node_list) != 0 and node_list[0].cost() != 0:\n",
        "        visited.append(Damenspiel(node_list[0].columns))\n",
        "        if step_count % 500 == 0:\n",
        "            print(step_count, node_list[0].cost(), len(visited), node_list[0].columns)\n",
        "        children = node_list[0].move()\n",
        "        possibi = list(filter(lambda x: x.cost() <= node_list[0].cost() and x not in visited, children))\n",
        "        possibi.sort(key=lambda x: x.cost())\n",
        "        node_list.pop(0)\n",
        "        node_list = possibi + node_list\n",
        "        step_count += 1\n",
        "    return step_count"
      ],
      "execution_count": 0,
      "outputs": []
    },
    {
      "cell_type": "markdown",
      "metadata": {
        "colab_type": "text",
        "id": "MdMO7RBRfiXI"
      },
      "source": [
        "`bombur()` - **Bergsteigeralgorithmus mit Random Restart** (pentru Damespiel n x n) - primeste parametru o lista cu un obiect de tip `Damespiel`, reprezentand configuratia (random) initiala\n"
      ]
    },
    {
      "cell_type": "code",
      "metadata": {
        "id": "5SvI7sIIB862",
        "colab_type": "code",
        "colab": {}
      },
      "source": [
        "def bombur(node_list):\n",
        "    step_count = 0\n",
        "    visited = []\n",
        "    node_list.sort(key=lambda x: x.cost())\n",
        "    while len(node_list) != 0 and node_list[0].cost() != 0:\n",
        "        visited.append(Damenspiel(node_list[0].columns))\n",
        "        if step_count % 500 == 0:\n",
        "            print(step_count, node_list[0].cost(), len(visited), node_list[0].columns)\n",
        "        children = node_list[0].move()\n",
        "        possibi = list(filter(lambda x: x.cost() <= node_list[0].cost() and x not in visited, children))\n",
        "        if len(possibi) == 0:\n",
        "            lista = random.sample(range(n), n)\n",
        "            instance = Damenspiel(lista)\n",
        "            node_list = [instance]\n",
        "            while instance in visited:\n",
        "                lista = random.sample(range(n), n)\n",
        "                instance = Damenspiel(lista)\n",
        "            node_list = [instance]\n",
        "            print(\"restarted\", step_count, node_list[0].cost())\n",
        "        else:\n",
        "            node_list.pop(0)\n",
        "            possibi.sort(key=lambda x: x.cost())\n",
        "            node_list = possibi + node_list\n",
        "        step_count += 1\n",
        "    return step_count"
      ],
      "execution_count": 0,
      "outputs": []
    },
    {
      "cell_type": "markdown",
      "metadata": {
        "colab_type": "text",
        "id": "le8ikCkAfWJa"
      },
      "source": [
        "`ori()` - **Bergsteigeralgorithmus mit simulierten Abkühlung** (pentru Damenspiel n x n) - primeste parametru o lista cu un obiect de tip `Damenspiel`, reprezentand configuratia (random) initiala\n"
      ]
    },
    {
      "cell_type": "code",
      "metadata": {
        "id": "MgMgcv4YFehf",
        "colab_type": "code",
        "colab": {}
      },
      "source": [
        "def ori(node_list):\n",
        "    step_count = 1\n",
        "    visited = []\n",
        "    node_list.sort(key=lambda x: x.cost())\n",
        "    while len(node_list) != 0 and node_list[0].cost() != 0:\n",
        "        visited.append(Damenspiel(node_list[0].columns))\n",
        "        if step_count % 500 == 0:\n",
        "            print(step_count, node_list[0].cost(), len(visited), node_list[0].columns)\n",
        "        temp = 100 / step_count\n",
        "        children = node_list[0].move()\n",
        "        possibi = []\n",
        "        for x in children:\n",
        "          try:\n",
        "            prob = math.exp(abs(x.cost() - node_list[0].cost()) / temp)\n",
        "          except OverflowError:\n",
        "            prob = 0.5\n",
        "          if x.cost() <= node_list[0].cost() or random.uniform(0, 1) <=  prob and x not in visited:\n",
        "            possibi.append(x)\n",
        "        possibi.sort(key=lambda x:x.cost())\n",
        "        node_list.pop(0)\n",
        "        node_list = possibi + node_list\n",
        "        step_count += 1\n",
        "    return step_count"
      ],
      "execution_count": 0,
      "outputs": []
    },
    {
      "cell_type": "markdown",
      "metadata": {
        "id": "5YYbN8hvkQ0U",
        "colab_type": "text"
      },
      "source": [
        "Testing the 3 algorithms on the n x n Puzzle Problem:"
      ]
    },
    {
      "cell_type": "code",
      "metadata": {
        "id": "4jVMhMbuErKj",
        "colab_type": "code",
        "colab": {}
      },
      "source": [
        "import random\n",
        "\n",
        "lista = random.sample(range(n * n), n * n)\n",
        "while not isSolvable(lista):\n",
        "    lista = random.sample(range(n * n), n * n)\n",
        "poz = lista.index(0)\n",
        "index = 0\n",
        "matr = []\n",
        "for i in range(n):\n",
        "    matr.append([])\n",
        "    for j in range(n):\n",
        "        matr[i].append(lista[index])\n",
        "        index += 1\n",
        "instance = Puzzle(matr, poz)\n",
        "node_list = [instance]\n",
        "\n",
        "# print(bilbo(node_list))\n",
        "# print(kili(node_list))\n",
        "# print(fili(node_list))"
      ],
      "execution_count": 0,
      "outputs": []
    },
    {
      "cell_type": "markdown",
      "metadata": {
        "colab_type": "text",
        "id": "g5cgLWzmkdTv"
      },
      "source": [
        "Testing the 3 algorithms on the n x n Queens Problem:"
      ]
    },
    {
      "cell_type": "code",
      "metadata": {
        "id": "jcFKo61rhfGS",
        "colab_type": "code",
        "outputId": "33bb72f2-2a58-4c26-ef34-770870e9186f",
        "colab": {
          "base_uri": "https://localhost:8080/",
          "height": 168
        }
      },
      "source": [
        "import random\n",
        "import math\n",
        "\n",
        "lista = random.sample(range(n), n)\n",
        "instance = Damenspiel(lista)\n",
        "\n",
        "# print(bofur([instance]))\n",
        "# print(bombur([instance]))\n",
        "print(ori([instance]))"
      ],
      "execution_count": 0,
      "outputs": [
        {
          "output_type": "stream",
          "text": [
            "500 1 500 [7, 5, 2, 4, 6, 0, 3, 1]\n",
            "1000 1 1000 [7, 5, 2, 4, 6, 0, 3, 1]\n",
            "1500 1 1500 [7, 5, 2, 4, 6, 0, 3, 1]\n",
            "2000 1 2000 [7, 5, 2, 4, 6, 0, 3, 1]\n",
            "2500 1 2500 [7, 5, 2, 4, 6, 0, 3, 1]\n",
            "3000 1 3000 [7, 5, 2, 4, 6, 0, 3, 1]\n",
            "3500 1 3500 [7, 5, 2, 4, 6, 0, 3, 1]\n",
            "4000 1 4000 [7, 5, 2, 4, 6, 0, 3, 1]\n",
            "4500 1 4500 [7, 5, 2, 4, 6, 0, 3, 1]\n"
          ],
          "name": "stdout"
        }
      ]
    }
  ]
}